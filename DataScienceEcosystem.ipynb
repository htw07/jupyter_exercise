{
 "cells": [
  {
   "cell_type": "markdown",
   "id": "e0bc3b62-96f4-4150-a82f-436fb5e60e8a",
   "metadata": {},
   "source": [
    "# Data Science Tools and Ecosystem"
   ]
  },
  {
   "cell_type": "markdown",
   "id": "9936c5ed-737d-4ad0-a35d-44f8ef06e7f6",
   "metadata": {},
   "source": [
    "In this notebook, Data Science Tools and Ecosystem are summarized."
   ]
  },
  {
   "cell_type": "markdown",
   "id": "115f9e53-654f-46d4-9889-60e6c5367212",
   "metadata": {},
   "source": [
    "Some of the popular languages that Data Scientists use are: \n",
    "1. Python \n",
    "2. R\n",
    "3. SQL\n",
    "4. Scala\n",
    "5. Java\n",
    "6. C++\n",
    "7. Julia"
   ]
  },
  {
   "cell_type": "markdown",
   "id": "3bdd8e30-7d58-4706-84fb-29fd5ecd0170",
   "metadata": {},
   "source": [
    "Some of the commonly used libraries used by Data Scientists include:\n",
    "1. pandas\n",
    "2. numpy \n",
    "3. scipy\n",
    "4. matplotlib "
   ]
  },
  {
   "cell_type": "markdown",
   "id": "e0e9609e-4a53-46c3-8015-b15a74b667fa",
   "metadata": {},
   "source": [
    "| Data Science Tools |\n",
    "| ------------------ |\n",
    "| VS (visual studio) Code |\n",
    "| Spyder |\n",
    "| Pycharm |\n",
    "| Jupyter | \n",
    "| RStudio |\n",
    "| anaconda |\n",
    "| miniconda |\n"
   ]
  },
  {
   "cell_type": "markdown",
   "id": "25ff954a-f11c-42e5-99c0-2079b196ada8",
   "metadata": {},
   "source": [
    "### Below are a few examples of evaluating arithmetic expressions in Python"
   ]
  },
  {
   "cell_type": "code",
   "execution_count": 2,
   "id": "3423b963-1dfa-4a17-ab2f-c2e475dca934",
   "metadata": {
    "tags": []
   },
   "outputs": [
    {
     "data": {
      "text/plain": [
       "17"
      ]
     },
     "execution_count": 2,
     "metadata": {},
     "output_type": "execute_result"
    }
   ],
   "source": [
    "# This a simple arithmetic expression to mutiply then add integers\n",
    "(3*4)+5"
   ]
  },
  {
   "cell_type": "code",
   "execution_count": 3,
   "id": "d365c7ce-215b-46b1-ac4c-3bf0db090250",
   "metadata": {
    "tags": []
   },
   "outputs": [
    {
     "data": {
      "text/plain": [
       "3.3333333333333335"
      ]
     },
     "execution_count": 3,
     "metadata": {},
     "output_type": "execute_result"
    }
   ],
   "source": [
    "# This will convert 200 minutes to hours by diving by 60\n",
    "200/60"
   ]
  },
  {
   "cell_type": "markdown",
   "id": "1aefe71f-29f7-4dc5-ac7c-68c93baf3b58",
   "metadata": {},
   "source": [
    "<b> Objectives: </b>\n",
    "- list popular languages for Data Science \n",
    "- summary of commonly used libraries for Data Science \n",
    "- list of open source Data Science tools\n",
    "- examples of evaluating arithmetic expressions\n"
   ]
  },
  {
   "cell_type": "markdown",
   "id": "6b10b08e-8eb7-4305-88ff-e1ae26946fba",
   "metadata": {},
   "source": [
    "## Author\n",
    "htw\n"
   ]
  }
 ],
 "metadata": {
  "kernelspec": {
   "display_name": "Python",
   "language": "python",
   "name": "conda-env-python-py"
  },
  "language_info": {
   "codemirror_mode": {
    "name": "ipython",
    "version": 3
   },
   "file_extension": ".py",
   "mimetype": "text/x-python",
   "name": "python",
   "nbconvert_exporter": "python",
   "pygments_lexer": "ipython3",
   "version": "3.7.12"
  }
 },
 "nbformat": 4,
 "nbformat_minor": 5
}
